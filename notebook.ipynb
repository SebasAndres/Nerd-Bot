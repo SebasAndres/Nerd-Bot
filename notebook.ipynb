{
 "cells": [
  {
   "attachments": {},
   "cell_type": "markdown",
   "metadata": {},
   "source": [
    "## Cantidad de P acciones posibles, dadas m materias restantes"
   ]
  },
  {
   "cell_type": "code",
   "execution_count": 52,
   "metadata": {},
   "outputs": [],
   "source": [
    "def P(m) -> int:\n",
    "    if m in [0,1]:\n",
    "        return m\n",
    "    else: \n",
    "        return sum([(nC(m, i+1) + P(m-(i+1))) for i in range(m)])\n",
    "\n",
    "def nC (n, k) -> int:\n",
    "    # numero combinatorio\n",
    "    return (factorial(n) / (factorial(k) * factorial(n-k)))\n",
    "\n",
    "def factorial (n) -> int:\n",
    "    if n == 0:\n",
    "        return 1\n",
    "    else:\n",
    "        return n*factorial(n-1)"
   ]
  },
  {
   "attachments": {},
   "cell_type": "markdown",
   "metadata": {},
   "source": [
    "Veo grafico comparativo de como escala la cantidad de computo por materias a ordenar"
   ]
  },
  {
   "cell_type": "code",
   "execution_count": 53,
   "metadata": {},
   "outputs": [
    {
     "name": "stdout",
     "output_type": "stream",
     "text": [
      "[1, 2, 3, 4]\n",
      "[4.0, 12.0, 32.0, 80.0]\n"
     ]
    },
    {
     "data": {
      "image/png": "[encoded data removed]",
      "text/plain": [
       "<Figure size 640x480 with 1 Axes>"
      ]
     },
     "metadata": {},
     "output_type": "display_data"
    }
   ],
   "source": [
    "import matplotlib.pyplot as plt\n",
    "\n",
    "rango_m = list(range(1,5))\n",
    "\n",
    "print (rango_m)\n",
    "print ([P(i+1) for i in rango_m])\n",
    "\n",
    "plt.plot(rango_m, [P(i+1) for i in rango_m])\n",
    "plt.show()"
   ]
  },
  {
   "cell_type": "code",
   "execution_count": null,
   "metadata": {},
   "outputs": [],
   "source": [
    "class State ():\n",
    "    def __init__ (self, materias_cursadas, materias_por_cursar):\n",
    "        self.materias_cursadas = materias_cursadas\n",
    "        self.materias_por_cursar = materias_por_cursar\n",
    "\n",
    "    def possible_actions(self):\n",
    "        return []\n",
    "\n",
    "class Environment ():\n",
    "    def __init__ (self, init_state):\n",
    "        self.state = init_state\n",
    "\n",
    "    def in_end_state (self):\n",
    "        return self.state.possible_actions() == 0"
   ]
  },
  {
   "cell_type": "code",
   "execution_count": 54,
   "metadata": {},
   "outputs": [
    {
     "ename": "SyntaxError",
     "evalue": "invalid syntax (1485929513.py, line 7)",
     "output_type": "error",
     "traceback": [
      "\u001b[0;36m  Cell \u001b[0;32mIn[54], line 7\u001b[0;36m\u001b[0m\n\u001b[0;31m    return R(s) + alpha*\u001b[0m\n\u001b[0m                         ^\u001b[0m\n\u001b[0;31mSyntaxError\u001b[0m\u001b[0;31m:\u001b[0m invalid syntax\n"
     ]
    }
   ],
   "source": [
    "class Agent ():\n",
    "    def __init__ (self, alpha=0.5):\n",
    "        self.alpha = alpha\n",
    "        self.history = []\n",
    "\n",
    "    def make_career_plan (self, initial_state):\n",
    "        environment = Environment(initial_state)\n",
    "        while not environment.in_end_state():\n",
    "            best_action = self.pick_best_action(environment.state) # state contiene metodo state.possible_actions()\n",
    "            environment.execute(best_action) # execute hace un environment.set_state(state')\n",
    "            self.history.append((best_action, environment.state))\n",
    "        return self.pretty_print_history()\n",
    "\n",
    "    def pretty_print_history(self):\n",
    "        return {}\n",
    "\n",
    "    def R (self, state):\n",
    "        # Reward of being in state s\n",
    "        return \n",
    "\n",
    "    def Q (self, state, action):\n",
    "        # Reward after applying action a from state s\n",
    "        fake_env = Environment(state=state)\n",
    "        post_state = fake_env.execute(action)\n",
    "        post_action = self.pick_best_action(post_state)\n",
    "        return self.R(state) + self.alpha * self.Q(post_state,post_action) \n",
    "\n",
    "    def pick_best_action (self, state):\n",
    "        possible_actions = state.possible_actions()\n",
    "        if len(possible_actions) > 0:\n",
    "            best_choice = (0, possible_actions[0])\n",
    "            max = self.Q(state, possible_actions[0])\n",
    "            for j, a_ in enumerate(possible_actions[1:]):\n",
    "                val = self.Q(state, a_)\n",
    "                if best_choice[1] <= val:\n",
    "                    best_choice = (j, val)\n",
    "            return best_choice\n",
    "        return "
   ]
  },
  {
   "cell_type": "code",
   "execution_count": null,
   "metadata": {},
   "outputs": [
    {
     "ename": "SyntaxError",
     "evalue": "incomplete input (375225820.py, line 2)",
     "output_type": "error",
     "traceback": [
      "\u001b[0;36m  Cell \u001b[0;32mIn[51], line 2\u001b[0;36m\u001b[0m\n\u001b[0;31m    \u001b[0m\n\u001b[0m    ^\u001b[0m\n\u001b[0;31mSyntaxError\u001b[0m\u001b[0;31m:\u001b[0m incomplete input\n"
     ]
    }
   ],
   "source": [
    "materias_cursadas = []\n",
    "materias_por_cursar = []\n",
    "initial_state = State(materias_cursadas, materias_por_cursar)\n",
    "\n",
    "planes_de_carreras = []\n",
    "\n",
    "nerd = Agent(alpha=0.7)\n",
    "nerd.learn_course_plans(planes_de_carreras)\n",
    "my_plan = nerd.make_career_plan(initial_state)\n",
    "\n",
    "print (my_plan)"
   ]
  },
  {
   "cell_type": "code",
   "execution_count": null,
   "metadata": {},
   "outputs": [],
   "source": []
  }
 ],
 "metadata": {
  "kernelspec": {
   "display_name": "Python 3",
   "language": "python",
   "name": "python3"
  },
  "language_info": {
   "codemirror_mode": {
    "name": "ipython",
    "version": 3
   },
   "file_extension": ".py",
   "mimetype": "text/x-python",
   "name": "python",
   "nbconvert_exporter": "python",
   "pygments_lexer": "ipython3",
   "version": "3.10.6"
  },
  "orig_nbformat": 4,
  "vscode": {
   "interpreter": {
    "hash": "916dbcbb3f70747c44a77c7bcd40155683ae19c65e1c03b4aa3499c5328201f1"
   }
  }
 },
 "nbformat": 4,
 "nbformat_minor": 2
}
